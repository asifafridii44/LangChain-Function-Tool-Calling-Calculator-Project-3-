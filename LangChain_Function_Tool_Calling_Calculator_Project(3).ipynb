{
  "nbformat": 4,
  "nbformat_minor": 0,
  "metadata": {
    "colab": {
      "provenance": []
    },
    "kernelspec": {
      "name": "python3",
      "display_name": "Python 3"
    },
    "language_info": {
      "name": "python"
    }
  },
  "cells": [
    {
      "cell_type": "code",
      "execution_count": null,
      "metadata": {
        "id": "1U5mvdZIZ1R1"
      },
      "outputs": [],
      "source": [
        "!pip install -q -U langchain-google-genai langchain"
      ]
    },
    {
      "cell_type": "code",
      "source": [
        "import os\n",
        "from google.colab import userdata\n",
        "os.environ['GOOGLE_API_KEY'] = userdata.get(\"GOOGLE_API_KEY\")"
      ],
      "metadata": {
        "id": "VZOxPVi2aWCz"
      },
      "execution_count": null,
      "outputs": []
    },
    {
      "cell_type": "code",
      "source": [
        "from langchain_google_genai import ChatGoogleGenerativeAI\n",
        "\n",
        "llm = ChatGoogleGenerativeAI( # ChatGoogleGenerativeAI should be capitalized\n",
        "    model=\"gemini-2.0-flash-exp\",\n",
        "    GOOGLE_API_KEY=os.environ['GOOGLE_API_KEY'],\n",
        "    temperature =0,\n",
        "    max_tokens = None,\n",
        ")"
      ],
      "metadata": {
        "id": "hL3C0KpzaZ47"
      },
      "execution_count": null,
      "outputs": []
    },
    {
      "cell_type": "markdown",
      "source": [
        "multiplication"
      ],
      "metadata": {
        "id": "QpmkobanjRGf"
      }
    },
    {
      "cell_type": "code",
      "source": [
        "from  langchain_core.tools import tool\n",
        "@tool\n",
        "def mul(a:int,b:int)->int:\n",
        "  \"Result of a*b is :\"\n",
        "  return a*b"
      ],
      "metadata": {
        "id": "Lciz0dn1aeCl"
      },
      "execution_count": null,
      "outputs": []
    },
    {
      "cell_type": "code",
      "source": [
        "mul.invoke({\"a\":2,\"b\":6})"
      ],
      "metadata": {
        "colab": {
          "base_uri": "https://localhost:8080/"
        },
        "id": "BwPZhWLaagX1",
        "outputId": "88de3a44-8a1a-4c24-ac15-dfbf47658bda"
      },
      "execution_count": null,
      "outputs": [
        {
          "output_type": "execute_result",
          "data": {
            "text/plain": [
              "12"
            ]
          },
          "metadata": {},
          "execution_count": 108
        }
      ]
    },
    {
      "cell_type": "code",
      "source": [
        "from ast import arg\n",
        "print(\"tool description\",mul.name,\"\\n tool arguments : \", mul.args)"
      ],
      "metadata": {
        "colab": {
          "base_uri": "https://localhost:8080/"
        },
        "id": "SNvMU41xaiwy",
        "outputId": "f93227f8-166d-47bf-b7d1-2786a507ae8c"
      },
      "execution_count": null,
      "outputs": [
        {
          "output_type": "stream",
          "name": "stdout",
          "text": [
            "tool description mul \n",
            " tool arguments :  {'a': {'title': 'A', 'type': 'integer'}, 'b': {'title': 'B', 'type': 'integer'}}\n"
          ]
        }
      ]
    },
    {
      "cell_type": "code",
      "source": [
        "llm_with_tools = llm.bind_tools([mul])\n",
        "\n",
        "res = llm_with_tools.invoke(\"what is 2*6?\")\n",
        "print(\"response : \",res.content)"
      ],
      "metadata": {
        "colab": {
          "base_uri": "https://localhost:8080/"
        },
        "id": "qMiJUjIOalQN",
        "outputId": "fa24d1d9-afa4-4087-8223-025dbc4fb9ab"
      },
      "execution_count": null,
      "outputs": [
        {
          "output_type": "stream",
          "name": "stdout",
          "text": [
            "response :  \n"
          ]
        }
      ]
    },
    {
      "cell_type": "code",
      "source": [
        "res.__dict__"
      ],
      "metadata": {
        "colab": {
          "base_uri": "https://localhost:8080/"
        },
        "id": "hnftyoCXan9c",
        "outputId": "1f7aaed0-7b30-4950-f44d-5e811c3991e7"
      },
      "execution_count": null,
      "outputs": [
        {
          "output_type": "execute_result",
          "data": {
            "text/plain": [
              "{'content': '',\n",
              " 'additional_kwargs': {'function_call': {'name': 'mul',\n",
              "   'arguments': '{\"a\": 2.0, \"b\": 6.0}'}},\n",
              " 'response_metadata': {'prompt_feedback': {'block_reason': 0,\n",
              "   'safety_ratings': []},\n",
              "  'finish_reason': 'STOP',\n",
              "  'safety_ratings': [{'category': 'HARM_CATEGORY_HATE_SPEECH',\n",
              "    'probability': 'NEGLIGIBLE',\n",
              "    'blocked': False},\n",
              "   {'category': 'HARM_CATEGORY_DANGEROUS_CONTENT',\n",
              "    'probability': 'NEGLIGIBLE',\n",
              "    'blocked': False},\n",
              "   {'category': 'HARM_CATEGORY_HARASSMENT',\n",
              "    'probability': 'NEGLIGIBLE',\n",
              "    'blocked': False},\n",
              "   {'category': 'HARM_CATEGORY_SEXUALLY_EXPLICIT',\n",
              "    'probability': 'NEGLIGIBLE',\n",
              "    'blocked': False}]},\n",
              " 'type': 'ai',\n",
              " 'name': None,\n",
              " 'id': 'run-798fa611-16b2-4baf-8147-7d10535a7102-0',\n",
              " 'example': False,\n",
              " 'tool_calls': [{'name': 'mul',\n",
              "   'args': {'a': 2.0, 'b': 6.0},\n",
              "   'id': '7acc4627-1905-45ae-8a03-06fde66b399f',\n",
              "   'type': 'tool_call'}],\n",
              " 'invalid_tool_calls': [],\n",
              " 'usage_metadata': {'input_tokens': 56,\n",
              "  'output_tokens': 3,\n",
              "  'total_tokens': 59,\n",
              "  'input_token_details': {'cache_read': 0}}}"
            ]
          },
          "metadata": {},
          "execution_count": 111
        }
      ]
    },
    {
      "cell_type": "code",
      "source": [
        "print(res.tool_calls)"
      ],
      "metadata": {
        "colab": {
          "base_uri": "https://localhost:8080/"
        },
        "id": "AdZxIHtobKLk",
        "outputId": "55a9ada4-ce36-46d2-fb64-6911f1929093"
      },
      "execution_count": null,
      "outputs": [
        {
          "output_type": "stream",
          "name": "stdout",
          "text": [
            "[{'name': 'mul', 'args': {'a': 2.0, 'b': 6.0}, 'id': '7acc4627-1905-45ae-8a03-06fde66b399f', 'type': 'tool_call'}]\n"
          ]
        }
      ]
    },
    {
      "cell_type": "code",
      "source": [
        "for tool in  res.tool_calls:\n",
        "  if tool['name']==\"mul\":\n",
        "    tool_output = mul.invoke(tool['args'])\n",
        "    print(f\"multiplication Result:{tool_output}\")\n",
        "  else:\n",
        "    print(f\"unknown tool : {tool['name']}\")"
      ],
      "metadata": {
        "colab": {
          "base_uri": "https://localhost:8080/"
        },
        "id": "IcNAJXYcbQ50",
        "outputId": "34531d7d-c62d-4449-b543-c750ff1f4e1b"
      },
      "execution_count": null,
      "outputs": [
        {
          "output_type": "stream",
          "name": "stdout",
          "text": [
            "multiplication Result:12\n"
          ]
        }
      ]
    },
    {
      "cell_type": "code",
      "source": [
        "res = llm_with_tools.invoke(\"weather?\")\n",
        "print(\"response : \",res.content)"
      ],
      "metadata": {
        "colab": {
          "base_uri": "https://localhost:8080/"
        },
        "id": "Dwq-uJtvbUzc",
        "outputId": "812deb21-3608-46bf-d1a0-f880d016486a"
      },
      "execution_count": null,
      "outputs": [
        {
          "output_type": "stream",
          "name": "stdout",
          "text": [
            "response :  I'm sorry, I'm not able to find weather information with the available tools. Is there anything else you need help with?\n"
          ]
        }
      ]
    },
    {
      "cell_type": "code",
      "source": [
        "from langchain_core.messages import HumanMessage , ToolMessage\n",
        "messages = [\n",
        "    HumanMessage(\n",
        "        \"hello , can you tell me what 5 multiplied by 6 is\"\n",
        "    )\n",
        "]\n",
        "llm_output = llm_with_tools.invoke(messages)\n",
        "messages.append(llm_output)\n",
        "\n"
      ],
      "metadata": {
        "id": "9gOJtdZpb-wd"
      },
      "execution_count": null,
      "outputs": []
    },
    {
      "cell_type": "code",
      "source": [
        "messages"
      ],
      "metadata": {
        "colab": {
          "base_uri": "https://localhost:8080/"
        },
        "id": "0s2GzJK5g94H",
        "outputId": "7f1896f3-816b-4fdb-d090-44a96e81957f"
      },
      "execution_count": null,
      "outputs": [
        {
          "output_type": "execute_result",
          "data": {
            "text/plain": [
              "[HumanMessage(content='hello , can you tell me what 5 multiplied by 6 is', additional_kwargs={}, response_metadata={}),\n",
              " AIMessage(content='', additional_kwargs={'function_call': {'name': 'mul', 'arguments': '{\"a\": 5.0, \"b\": 6.0}'}}, response_metadata={'prompt_feedback': {'block_reason': 0, 'safety_ratings': []}, 'finish_reason': 'STOP', 'safety_ratings': [{'category': 'HARM_CATEGORY_HATE_SPEECH', 'probability': 'NEGLIGIBLE', 'blocked': False}, {'category': 'HARM_CATEGORY_DANGEROUS_CONTENT', 'probability': 'NEGLIGIBLE', 'blocked': False}, {'category': 'HARM_CATEGORY_HARASSMENT', 'probability': 'NEGLIGIBLE', 'blocked': False}, {'category': 'HARM_CATEGORY_SEXUALLY_EXPLICIT', 'probability': 'NEGLIGIBLE', 'blocked': False}]}, id='run-0123c33f-41dc-4dba-8831-4a74911e83c1-0', tool_calls=[{'name': 'mul', 'args': {'a': 5.0, 'b': 6.0}, 'id': '030e82e9-4e64-4946-9f7e-81f04e63c72e', 'type': 'tool_call'}], usage_metadata={'input_tokens': 63, 'output_tokens': 3, 'total_tokens': 66, 'input_token_details': {'cache_read': 0}})]"
            ]
          },
          "metadata": {},
          "execution_count": 116
        }
      ]
    },
    {
      "cell_type": "code",
      "source": [
        "for tool in llm_output.tool_calls:\n",
        "  if tool['name']==\"mul\":\n",
        "    tool_output = mul.invoke(tool['args'])\n",
        "    # Ensure tool_output is a string\n",
        "    tool_output_str = str(tool_output)\n",
        "    # Provide the tool name when creating the ToolMessage\n",
        "    messages.append(ToolMessage(content=tool_output_str, tool_call_id = tool['id'], name=tool['name']))\n",
        "  else:\n",
        "    print(f\"unknown tool : {tool['name']}\")"
      ],
      "metadata": {
        "id": "H6Y2z5HZf-2Z"
      },
      "execution_count": null,
      "outputs": []
    },
    {
      "cell_type": "code",
      "source": [
        "from pprint import pprint\n",
        "pprint(messages)\n"
      ],
      "metadata": {
        "colab": {
          "base_uri": "https://localhost:8080/"
        },
        "id": "jRHZqgOngA6Y",
        "outputId": "78401ca3-318e-48b0-ee8c-410558912caf"
      },
      "execution_count": null,
      "outputs": [
        {
          "output_type": "stream",
          "name": "stdout",
          "text": [
            "[HumanMessage(content='hello , can you tell me what 5 multiplied by 6 is', additional_kwargs={}, response_metadata={}),\n",
            " AIMessage(content='', additional_kwargs={'function_call': {'name': 'mul', 'arguments': '{\"a\": 5.0, \"b\": 6.0}'}}, response_metadata={'prompt_feedback': {'block_reason': 0, 'safety_ratings': []}, 'finish_reason': 'STOP', 'safety_ratings': [{'category': 'HARM_CATEGORY_HATE_SPEECH', 'probability': 'NEGLIGIBLE', 'blocked': False}, {'category': 'HARM_CATEGORY_DANGEROUS_CONTENT', 'probability': 'NEGLIGIBLE', 'blocked': False}, {'category': 'HARM_CATEGORY_HARASSMENT', 'probability': 'NEGLIGIBLE', 'blocked': False}, {'category': 'HARM_CATEGORY_SEXUALLY_EXPLICIT', 'probability': 'NEGLIGIBLE', 'blocked': False}]}, id='run-0123c33f-41dc-4dba-8831-4a74911e83c1-0', tool_calls=[{'name': 'mul', 'args': {'a': 5.0, 'b': 6.0}, 'id': '030e82e9-4e64-4946-9f7e-81f04e63c72e', 'type': 'tool_call'}], usage_metadata={'input_tokens': 63, 'output_tokens': 3, 'total_tokens': 66, 'input_token_details': {'cache_read': 0}}),\n",
            " ToolMessage(content='30', name='mul', tool_call_id='030e82e9-4e64-4946-9f7e-81f04e63c72e')]\n"
          ]
        }
      ]
    },
    {
      "cell_type": "code",
      "source": [
        "res = llm_with_tools.invoke(messages)\n",
        "print(res.content)"
      ],
      "metadata": {
        "colab": {
          "base_uri": "https://localhost:8080/"
        },
        "id": "_5a8kAzUgChp",
        "outputId": "e8cb51cb-0afb-443d-a83b-d487c926df28"
      },
      "execution_count": null,
      "outputs": [
        {
          "output_type": "stream",
          "name": "stdout",
          "text": [
            "5 multiplied by 6 is 30.\n"
          ]
        }
      ]
    },
    {
      "cell_type": "markdown",
      "source": [
        "Devision"
      ],
      "metadata": {
        "id": "qCAoQiyFhMVX"
      }
    },
    {
      "cell_type": "code",
      "source": [
        "from  langchain_core.tools import tool\n",
        "@tool\n",
        "def div(a: int, b: int) -> str:\n",
        "    \"Result of a/b is :\"\n",
        "    try:\n",
        "        return f\"The result is {a / b}\"\n",
        "    except ZeroDivisionError:\n",
        "        return \"Error: Division by zero is not allowed.\""
      ],
      "metadata": {
        "id": "NB6z6ATFcSsR"
      },
      "execution_count": null,
      "outputs": []
    },
    {
      "cell_type": "code",
      "source": [
        "try:\n",
        "    result = div.invoke({\"a\": 3, \"b\": 44})\n",
        "    print(\"Division result:\", result)\n",
        "except Exception as e:\n",
        "    print(f\"Error invoking tool: {e}\")"
      ],
      "metadata": {
        "colab": {
          "base_uri": "https://localhost:8080/"
        },
        "id": "OBoxrjH7cgKV",
        "outputId": "51a4b809-8dc0-4694-ddc0-2fa5d812f29f"
      },
      "execution_count": null,
      "outputs": [
        {
          "output_type": "stream",
          "name": "stdout",
          "text": [
            "Division result: The result is 0.06818181818181818\n"
          ]
        }
      ]
    },
    {
      "cell_type": "code",
      "source": [
        "from ast import arg\n",
        "print(\"tool description\",div.name,\"\\n tool arguments : \", div.args)"
      ],
      "metadata": {
        "colab": {
          "base_uri": "https://localhost:8080/"
        },
        "id": "itqH1HC2ciFn",
        "outputId": "5528b1f8-bbc9-4917-ee21-c68ad5078e0d"
      },
      "execution_count": null,
      "outputs": [
        {
          "output_type": "stream",
          "name": "stdout",
          "text": [
            "tool description div \n",
            " tool arguments :  {'a': {'title': 'A', 'type': 'integer'}, 'b': {'title': 'B', 'type': 'integer'}}\n"
          ]
        }
      ]
    },
    {
      "cell_type": "code",
      "source": [
        "llm_with_tools = llm.bind_tools([div])\n",
        "\n",
        "res = llm_with_tools.invoke(\"how are you?\")\n",
        "print(\"response : \",res.content)"
      ],
      "metadata": {
        "colab": {
          "base_uri": "https://localhost:8080/"
        },
        "id": "9ydQyPspcj55",
        "outputId": "193de499-bedd-4e25-87ee-718528955483"
      },
      "execution_count": null,
      "outputs": [
        {
          "output_type": "stream",
          "name": "stdout",
          "text": [
            "response :  I'm doing well, thank you for asking! How can I help you today?\n"
          ]
        }
      ]
    },
    {
      "cell_type": "code",
      "source": [
        "res.__dict__"
      ],
      "metadata": {
        "colab": {
          "base_uri": "https://localhost:8080/"
        },
        "id": "EJdUqWjBcl97",
        "outputId": "b70508b8-08aa-48aa-d77b-3345350ac91f"
      },
      "execution_count": null,
      "outputs": [
        {
          "output_type": "execute_result",
          "data": {
            "text/plain": [
              "{'content': \"I'm doing well, thank you for asking! How can I help you today?\",\n",
              " 'additional_kwargs': {},\n",
              " 'response_metadata': {'prompt_feedback': {'block_reason': 0,\n",
              "   'safety_ratings': []},\n",
              "  'finish_reason': 'STOP',\n",
              "  'safety_ratings': [{'category': 'HARM_CATEGORY_HATE_SPEECH',\n",
              "    'probability': 'NEGLIGIBLE',\n",
              "    'blocked': False},\n",
              "   {'category': 'HARM_CATEGORY_DANGEROUS_CONTENT',\n",
              "    'probability': 'NEGLIGIBLE',\n",
              "    'blocked': False},\n",
              "   {'category': 'HARM_CATEGORY_HARASSMENT',\n",
              "    'probability': 'NEGLIGIBLE',\n",
              "    'blocked': False},\n",
              "   {'category': 'HARM_CATEGORY_SEXUALLY_EXPLICIT',\n",
              "    'probability': 'NEGLIGIBLE',\n",
              "    'blocked': False}]},\n",
              " 'type': 'ai',\n",
              " 'name': None,\n",
              " 'id': 'run-cbacec4e-1e9e-455c-854c-440688028045-0',\n",
              " 'example': False,\n",
              " 'tool_calls': [],\n",
              " 'invalid_tool_calls': [],\n",
              " 'usage_metadata': {'input_tokens': 53,\n",
              "  'output_tokens': 19,\n",
              "  'total_tokens': 72,\n",
              "  'input_token_details': {'cache_read': 0}}}"
            ]
          },
          "metadata": {},
          "execution_count": 132
        }
      ]
    },
    {
      "cell_type": "code",
      "source": [
        "print(res.tool_calls)"
      ],
      "metadata": {
        "colab": {
          "base_uri": "https://localhost:8080/"
        },
        "id": "f-F10ti2cqH1",
        "outputId": "c80130ac-a249-444d-f131-a52037d34a7d"
      },
      "execution_count": null,
      "outputs": [
        {
          "output_type": "stream",
          "name": "stdout",
          "text": [
            "[]\n"
          ]
        }
      ]
    },
    {
      "cell_type": "code",
      "source": [
        "for tool in  res.tool_calls:\n",
        "  if tool['name']==\"div\":\n",
        "    tool_output = mul.invoke(tool['args'])\n",
        "    print(f\"division Result: {tool_output}\")\n",
        "  else:\n",
        "    print(f\"unknown tool : {tool['name']}\")"
      ],
      "metadata": {
        "id": "DD74juSwctHq"
      },
      "execution_count": null,
      "outputs": []
    },
    {
      "cell_type": "code",
      "source": [
        "from langchain_core.messages import HumanMessage , ToolMessage\n",
        "messages = [\n",
        "    HumanMessage(\n",
        "        \"hello , can you tell me what 5 divide by 0 is\"\n",
        "    )\n",
        "]\n",
        "llm_output = llm_with_tools.invoke(messages)\n",
        "messages.append(llm_output)\n",
        "\n"
      ],
      "metadata": {
        "id": "XRbxnB_qdJXS"
      },
      "execution_count": null,
      "outputs": []
    },
    {
      "cell_type": "code",
      "source": [
        "messages"
      ],
      "metadata": {
        "colab": {
          "base_uri": "https://localhost:8080/"
        },
        "id": "Yqjgr8ryh2t-",
        "outputId": "b2203e97-b7da-4918-8c71-c02ab3d9a8e6"
      },
      "execution_count": null,
      "outputs": [
        {
          "output_type": "execute_result",
          "data": {
            "text/plain": [
              "[HumanMessage(content='hello , can you tell me what 5 divide by 0 is', additional_kwargs={}, response_metadata={}),\n",
              " AIMessage(content='', additional_kwargs={'function_call': {'name': 'div', 'arguments': '{\"a\": 5.0, \"b\": 0.0}'}}, response_metadata={'prompt_feedback': {'block_reason': 0, 'safety_ratings': []}, 'finish_reason': 'STOP', 'safety_ratings': [{'category': 'HARM_CATEGORY_HATE_SPEECH', 'probability': 'NEGLIGIBLE', 'blocked': False}, {'category': 'HARM_CATEGORY_DANGEROUS_CONTENT', 'probability': 'NEGLIGIBLE', 'blocked': False}, {'category': 'HARM_CATEGORY_HARASSMENT', 'probability': 'NEGLIGIBLE', 'blocked': False}, {'category': 'HARM_CATEGORY_SEXUALLY_EXPLICIT', 'probability': 'NEGLIGIBLE', 'blocked': False}]}, id='run-6fe5ca67-5c05-4a2e-b118-d092d9a3857e-0', tool_calls=[{'name': 'div', 'args': {'a': 5.0, 'b': 0.0}, 'id': 'bdf81820-c858-47ae-b550-6fe27d794f67', 'type': 'tool_call'}], usage_metadata={'input_tokens': 63, 'output_tokens': 3, 'total_tokens': 66, 'input_token_details': {'cache_read': 0}})]"
            ]
          },
          "metadata": {},
          "execution_count": 137
        }
      ]
    },
    {
      "cell_type": "code",
      "source": [
        "for tool in llm_output.tool_calls:\n",
        "    if tool['name'] == \"div\":  # Check for the correct tool name \"div\"\n",
        "        tool_output = div.invoke(tool['args'])  # Invoke the \"div\" tool\n",
        "        # Ensure tool_output is a string\n",
        "        tool_output_str = str(tool_output)\n",
        "        # Provide the tool name when creating the ToolMessage\n",
        "        messages.append(ToolMessage(content=tool_output_str, tool_call_id=tool['id'], name=tool['name']))\n",
        "    else:\n",
        "        print(f\"unknown tool : {tool['name']}\")"
      ],
      "metadata": {
        "id": "UhKEdWvHhs0E"
      },
      "execution_count": null,
      "outputs": []
    },
    {
      "cell_type": "code",
      "source": [
        "from pprint import pprint\n",
        "pprint(messages)"
      ],
      "metadata": {
        "colab": {
          "base_uri": "https://localhost:8080/"
        },
        "id": "c1UyExXdhvMl",
        "outputId": "041c2e73-6b65-4226-c199-b7dcc319088a"
      },
      "execution_count": null,
      "outputs": [
        {
          "output_type": "stream",
          "name": "stdout",
          "text": [
            "[HumanMessage(content='hello , can you tell me what 5 divide by 0 is', additional_kwargs={}, response_metadata={}),\n",
            " AIMessage(content='', additional_kwargs={'function_call': {'name': 'div', 'arguments': '{\"a\": 5.0, \"b\": 0.0}'}}, response_metadata={'prompt_feedback': {'block_reason': 0, 'safety_ratings': []}, 'finish_reason': 'STOP', 'safety_ratings': [{'category': 'HARM_CATEGORY_HATE_SPEECH', 'probability': 'NEGLIGIBLE', 'blocked': False}, {'category': 'HARM_CATEGORY_DANGEROUS_CONTENT', 'probability': 'NEGLIGIBLE', 'blocked': False}, {'category': 'HARM_CATEGORY_HARASSMENT', 'probability': 'NEGLIGIBLE', 'blocked': False}, {'category': 'HARM_CATEGORY_SEXUALLY_EXPLICIT', 'probability': 'NEGLIGIBLE', 'blocked': False}]}, id='run-6fe5ca67-5c05-4a2e-b118-d092d9a3857e-0', tool_calls=[{'name': 'div', 'args': {'a': 5.0, 'b': 0.0}, 'id': 'bdf81820-c858-47ae-b550-6fe27d794f67', 'type': 'tool_call'}], usage_metadata={'input_tokens': 63, 'output_tokens': 3, 'total_tokens': 66, 'input_token_details': {'cache_read': 0}}),\n",
            " ToolMessage(content='Error: Division by zero is not allowed.', name='div', tool_call_id='bdf81820-c858-47ae-b550-6fe27d794f67')]\n"
          ]
        }
      ]
    },
    {
      "cell_type": "code",
      "source": [
        "res = llm_with_tools.invoke(messages)\n",
        "print(res.content)"
      ],
      "metadata": {
        "colab": {
          "base_uri": "https://localhost:8080/"
        },
        "id": "WGOqJHvuhw2n",
        "outputId": "dd58b32b-942c-4c47-a09e-f6a3c8ca9bc5"
      },
      "execution_count": null,
      "outputs": [
        {
          "output_type": "stream",
          "name": "stdout",
          "text": [
            "Dividing by zero is not allowed.\n"
          ]
        }
      ]
    },
    {
      "cell_type": "markdown",
      "source": [
        "Subtraction\n"
      ],
      "metadata": {
        "id": "k5XEkb_XiBt4"
      }
    },
    {
      "cell_type": "code",
      "source": [
        "from  langchain_core.tools import tool\n",
        "@tool\n",
        "def sub(a:int,b:int)->int:\n",
        "  \"Result of a-b is :\"\n",
        "  return a-b"
      ],
      "metadata": {
        "id": "-znXtKvwdP7E"
      },
      "execution_count": null,
      "outputs": []
    },
    {
      "cell_type": "code",
      "source": [
        "sub.invoke({\"a\":44,\"b\":10})"
      ],
      "metadata": {
        "colab": {
          "base_uri": "https://localhost:8080/"
        },
        "id": "TzBjELTkdRh9",
        "outputId": "4ac74761-0006-4c7d-b40a-189333dc4bb5"
      },
      "execution_count": null,
      "outputs": [
        {
          "output_type": "execute_result",
          "data": {
            "text/plain": [
              "34"
            ]
          },
          "metadata": {},
          "execution_count": 142
        }
      ]
    },
    {
      "cell_type": "code",
      "source": [
        "from ast import arg\n",
        "print(\"tool description\",sub.name,\"\\n tool arguments : \", sub.args)"
      ],
      "metadata": {
        "colab": {
          "base_uri": "https://localhost:8080/"
        },
        "id": "-Yjgu6bmdTd0",
        "outputId": "f604295a-e137-46c5-d00d-10293b835cdd"
      },
      "execution_count": null,
      "outputs": [
        {
          "output_type": "stream",
          "name": "stdout",
          "text": [
            "tool description sub \n",
            " tool arguments :  {'a': {'title': 'A', 'type': 'integer'}, 'b': {'title': 'B', 'type': 'integer'}}\n"
          ]
        }
      ]
    },
    {
      "cell_type": "code",
      "source": [
        "llm_with_tools = llm.bind_tools([sub])\n",
        "\n",
        "res = llm_with_tools.invoke(\"how are you?\")\n",
        "print(\"response : \",res.content)"
      ],
      "metadata": {
        "colab": {
          "base_uri": "https://localhost:8080/"
        },
        "id": "cuN0JBucdVO-",
        "outputId": "97848def-d4a0-4ca0-fa56-b37f10ca58ff"
      },
      "execution_count": null,
      "outputs": [
        {
          "output_type": "stream",
          "name": "stdout",
          "text": [
            "response :  I'm doing well, thank you for asking! How can I help you today?\n"
          ]
        }
      ]
    },
    {
      "cell_type": "code",
      "source": [
        "res.__dict__"
      ],
      "metadata": {
        "colab": {
          "base_uri": "https://localhost:8080/"
        },
        "id": "7iQgzg4ZdXHN",
        "outputId": "c86dda40-d293-4d46-8073-ac5c4dbddfac"
      },
      "execution_count": null,
      "outputs": [
        {
          "output_type": "execute_result",
          "data": {
            "text/plain": [
              "{'content': \"I'm doing well, thank you for asking! How can I help you today?\",\n",
              " 'additional_kwargs': {},\n",
              " 'response_metadata': {'prompt_feedback': {'block_reason': 0,\n",
              "   'safety_ratings': []},\n",
              "  'finish_reason': 'STOP',\n",
              "  'safety_ratings': [{'category': 'HARM_CATEGORY_HATE_SPEECH',\n",
              "    'probability': 'NEGLIGIBLE',\n",
              "    'blocked': False},\n",
              "   {'category': 'HARM_CATEGORY_DANGEROUS_CONTENT',\n",
              "    'probability': 'NEGLIGIBLE',\n",
              "    'blocked': False},\n",
              "   {'category': 'HARM_CATEGORY_HARASSMENT',\n",
              "    'probability': 'NEGLIGIBLE',\n",
              "    'blocked': False},\n",
              "   {'category': 'HARM_CATEGORY_SEXUALLY_EXPLICIT',\n",
              "    'probability': 'NEGLIGIBLE',\n",
              "    'blocked': False}]},\n",
              " 'type': 'ai',\n",
              " 'name': None,\n",
              " 'id': 'run-ac954c5e-3702-45e3-b7b9-d69db68846b4-0',\n",
              " 'example': False,\n",
              " 'tool_calls': [],\n",
              " 'invalid_tool_calls': [],\n",
              " 'usage_metadata': {'input_tokens': 53,\n",
              "  'output_tokens': 19,\n",
              "  'total_tokens': 72,\n",
              "  'input_token_details': {'cache_read': 0}}}"
            ]
          },
          "metadata": {},
          "execution_count": 145
        }
      ]
    },
    {
      "cell_type": "code",
      "source": [
        "print(res.tool_calls)"
      ],
      "metadata": {
        "colab": {
          "base_uri": "https://localhost:8080/"
        },
        "id": "FoY2Bt48dZAy",
        "outputId": "275c8d50-ae28-4b89-cdaf-083def0c8583"
      },
      "execution_count": null,
      "outputs": [
        {
          "output_type": "stream",
          "name": "stdout",
          "text": [
            "[]\n"
          ]
        }
      ]
    },
    {
      "cell_type": "code",
      "source": [
        "for tool in  res.tool_calls:\n",
        "  if tool['name']==\"sub\":\n",
        "    tool_output = sub.invoke(tool['args'])\n",
        "    print(f\"subtraction Result: {tool_output}\")\n",
        "  else:\n",
        "    print(f\"unknown tool : {tool['name']}\")"
      ],
      "metadata": {
        "id": "OMF5vHCZdaw1"
      },
      "execution_count": null,
      "outputs": []
    },
    {
      "cell_type": "code",
      "source": [
        "from langchain_core.messages import HumanMessage , ToolMessage\n",
        "messages = [\n",
        "    HumanMessage(\n",
        "        \"hello , can you tell me what 5 subtract by 6 is\"\n",
        "    )\n",
        "]\n",
        "llm_output = llm_with_tools.invoke(messages)\n",
        "messages.append(llm_output)\n",
        "\n"
      ],
      "metadata": {
        "id": "3xwufxDHd7JS"
      },
      "execution_count": null,
      "outputs": []
    },
    {
      "cell_type": "code",
      "source": [
        "messages"
      ],
      "metadata": {
        "colab": {
          "base_uri": "https://localhost:8080/"
        },
        "id": "PzfEy5baiy9t",
        "outputId": "a2ebafde-5255-42fc-bb04-dc11860133a7"
      },
      "execution_count": null,
      "outputs": [
        {
          "output_type": "execute_result",
          "data": {
            "text/plain": [
              "[HumanMessage(content='hello , can you tell me what 5 subtract by 6 is', additional_kwargs={}, response_metadata={}),\n",
              " AIMessage(content='', additional_kwargs={'function_call': {'name': 'sub', 'arguments': '{\"a\": 5.0, \"b\": 6.0}'}}, response_metadata={'prompt_feedback': {'block_reason': 0, 'safety_ratings': []}, 'finish_reason': 'STOP', 'safety_ratings': [{'category': 'HARM_CATEGORY_HATE_SPEECH', 'probability': 'NEGLIGIBLE', 'blocked': False}, {'category': 'HARM_CATEGORY_DANGEROUS_CONTENT', 'probability': 'NEGLIGIBLE', 'blocked': False}, {'category': 'HARM_CATEGORY_HARASSMENT', 'probability': 'NEGLIGIBLE', 'blocked': False}, {'category': 'HARM_CATEGORY_SEXUALLY_EXPLICIT', 'probability': 'NEGLIGIBLE', 'blocked': False}]}, id='run-23ba36d3-2d3d-4fb8-a66d-efa70220c735-0', tool_calls=[{'name': 'sub', 'args': {'a': 5.0, 'b': 6.0}, 'id': '08f849fb-1658-4257-a32c-551002ff3628', 'type': 'tool_call'}], usage_metadata={'input_tokens': 63, 'output_tokens': 3, 'total_tokens': 66, 'input_token_details': {'cache_read': 0}})]"
            ]
          },
          "metadata": {},
          "execution_count": 149
        }
      ]
    },
    {
      "cell_type": "code",
      "source": [
        "for tool in llm_output.tool_calls:\n",
        "    if tool['name'] == \"sub\":  # Check for the correct tool name \"sub\"\n",
        "        tool_output = sub.invoke(tool['args'])  # Invoke the \"sub\" tool\n",
        "        # Ensure tool_output is a string\n",
        "        tool_output_str = str(tool_output)\n",
        "        # Provide the tool name and content when creating the ToolMessage\n",
        "        messages.append(ToolMessage(content=tool_output_str, tool_call_id=tool['id'], name=tool['name']))\n",
        "    else:\n",
        "        print(f\"unknown tool : {tool['name']}\")"
      ],
      "metadata": {
        "id": "-xdaqRgniSTh"
      },
      "execution_count": null,
      "outputs": []
    },
    {
      "cell_type": "code",
      "source": [
        "from pprint import pprint\n",
        "pprint(messages)"
      ],
      "metadata": {
        "colab": {
          "base_uri": "https://localhost:8080/"
        },
        "id": "vF8B85qNiUFT",
        "outputId": "76d87e2c-c27c-43ff-f5a6-51650af515a8"
      },
      "execution_count": null,
      "outputs": [
        {
          "output_type": "stream",
          "name": "stdout",
          "text": [
            "[HumanMessage(content='hello , can you tell me what 5 subtract by 6 is', additional_kwargs={}, response_metadata={}),\n",
            " AIMessage(content='', additional_kwargs={'function_call': {'name': 'sub', 'arguments': '{\"a\": 5.0, \"b\": 6.0}'}}, response_metadata={'prompt_feedback': {'block_reason': 0, 'safety_ratings': []}, 'finish_reason': 'STOP', 'safety_ratings': [{'category': 'HARM_CATEGORY_HATE_SPEECH', 'probability': 'NEGLIGIBLE', 'blocked': False}, {'category': 'HARM_CATEGORY_DANGEROUS_CONTENT', 'probability': 'NEGLIGIBLE', 'blocked': False}, {'category': 'HARM_CATEGORY_HARASSMENT', 'probability': 'NEGLIGIBLE', 'blocked': False}, {'category': 'HARM_CATEGORY_SEXUALLY_EXPLICIT', 'probability': 'NEGLIGIBLE', 'blocked': False}]}, id='run-23ba36d3-2d3d-4fb8-a66d-efa70220c735-0', tool_calls=[{'name': 'sub', 'args': {'a': 5.0, 'b': 6.0}, 'id': '08f849fb-1658-4257-a32c-551002ff3628', 'type': 'tool_call'}], usage_metadata={'input_tokens': 63, 'output_tokens': 3, 'total_tokens': 66, 'input_token_details': {'cache_read': 0}}),\n",
            " ToolMessage(content='-1', name='sub', tool_call_id='08f849fb-1658-4257-a32c-551002ff3628')]\n"
          ]
        }
      ]
    },
    {
      "cell_type": "code",
      "source": [
        "res = llm_with_tools.invoke(messages)\n",
        "print(res.content)"
      ],
      "metadata": {
        "colab": {
          "base_uri": "https://localhost:8080/"
        },
        "id": "QhkIOCq5iWLv",
        "outputId": "0b634924-6c9c-4a25-d433-174b6ec20e86"
      },
      "execution_count": null,
      "outputs": [
        {
          "output_type": "stream",
          "name": "stdout",
          "text": [
            "5 subtract by 6 is -1.\n"
          ]
        }
      ]
    },
    {
      "cell_type": "markdown",
      "source": [
        "Addition"
      ],
      "metadata": {
        "id": "-Y5Zu0GHi6_3"
      }
    },
    {
      "cell_type": "code",
      "source": [
        "from  langchain_core.tools import tool\n",
        "@tool\n",
        "def add(a:int,b:int)->int:\n",
        "  \"Result of a+b is :\"\n",
        "  return a+b"
      ],
      "metadata": {
        "id": "SBZlWmuaeRmz"
      },
      "execution_count": null,
      "outputs": []
    },
    {
      "cell_type": "code",
      "source": [
        "add.invoke({\"a\":4,\"b\":4})"
      ],
      "metadata": {
        "colab": {
          "base_uri": "https://localhost:8080/"
        },
        "id": "jtMQRhAdeTsm",
        "outputId": "d602c7e6-8b49-4b37-91ad-a65b98754ce2"
      },
      "execution_count": null,
      "outputs": [
        {
          "output_type": "execute_result",
          "data": {
            "text/plain": [
              "8"
            ]
          },
          "metadata": {},
          "execution_count": 154
        }
      ]
    },
    {
      "cell_type": "code",
      "source": [
        "from ast import arg\n",
        "print(\"tool description\",add.name,\"\\n tool arguments : \", add.args)"
      ],
      "metadata": {
        "colab": {
          "base_uri": "https://localhost:8080/"
        },
        "id": "rEzGNYIaeVrS",
        "outputId": "c910bfb3-19dc-4cdf-8dba-49d42dd98ca5"
      },
      "execution_count": null,
      "outputs": [
        {
          "output_type": "stream",
          "name": "stdout",
          "text": [
            "tool description add \n",
            " tool arguments :  {'a': {'title': 'A', 'type': 'integer'}, 'b': {'title': 'B', 'type': 'integer'}}\n"
          ]
        }
      ]
    },
    {
      "cell_type": "code",
      "source": [
        "llm_with_tools = llm.bind_tools([add])\n",
        "\n",
        "res = llm_with_tools.invoke(\"how are you?\")\n",
        "print(\"response : \",res.content)"
      ],
      "metadata": {
        "colab": {
          "base_uri": "https://localhost:8080/"
        },
        "id": "694e-gooeXaK",
        "outputId": "2aabb536-f193-44dd-d998-d645a8f08fd8"
      },
      "execution_count": null,
      "outputs": [
        {
          "output_type": "stream",
          "name": "stdout",
          "text": [
            "response :  I'm doing well, thank you for asking! How can I help you today?\n"
          ]
        }
      ]
    },
    {
      "cell_type": "code",
      "source": [
        "res.__dict__"
      ],
      "metadata": {
        "colab": {
          "base_uri": "https://localhost:8080/"
        },
        "id": "wyh-Zy9XeZXF",
        "outputId": "d0a255aa-963c-4dd4-8fdc-9b410fc75750"
      },
      "execution_count": null,
      "outputs": [
        {
          "output_type": "execute_result",
          "data": {
            "text/plain": [
              "{'content': \"I'm doing well, thank you for asking! How can I help you today?\",\n",
              " 'additional_kwargs': {},\n",
              " 'response_metadata': {'prompt_feedback': {'block_reason': 0,\n",
              "   'safety_ratings': []},\n",
              "  'finish_reason': 'STOP',\n",
              "  'safety_ratings': [{'category': 'HARM_CATEGORY_HATE_SPEECH',\n",
              "    'probability': 'NEGLIGIBLE',\n",
              "    'blocked': False},\n",
              "   {'category': 'HARM_CATEGORY_DANGEROUS_CONTENT',\n",
              "    'probability': 'NEGLIGIBLE',\n",
              "    'blocked': False},\n",
              "   {'category': 'HARM_CATEGORY_HARASSMENT',\n",
              "    'probability': 'NEGLIGIBLE',\n",
              "    'blocked': False},\n",
              "   {'category': 'HARM_CATEGORY_SEXUALLY_EXPLICIT',\n",
              "    'probability': 'NEGLIGIBLE',\n",
              "    'blocked': False}]},\n",
              " 'type': 'ai',\n",
              " 'name': None,\n",
              " 'id': 'run-88904e0d-0f9e-4edf-ada0-3720cedbdf87-0',\n",
              " 'example': False,\n",
              " 'tool_calls': [],\n",
              " 'invalid_tool_calls': [],\n",
              " 'usage_metadata': {'input_tokens': 53,\n",
              "  'output_tokens': 19,\n",
              "  'total_tokens': 72,\n",
              "  'input_token_details': {'cache_read': 0}}}"
            ]
          },
          "metadata": {},
          "execution_count": 157
        }
      ]
    },
    {
      "cell_type": "code",
      "source": [
        "print(res.tool_calls)"
      ],
      "metadata": {
        "colab": {
          "base_uri": "https://localhost:8080/"
        },
        "id": "M_u7qoF2ebQE",
        "outputId": "357f5b63-00f4-42de-831b-cff0f520e50e"
      },
      "execution_count": null,
      "outputs": [
        {
          "output_type": "stream",
          "name": "stdout",
          "text": [
            "[]\n"
          ]
        }
      ]
    },
    {
      "cell_type": "code",
      "source": [
        "for tool in  res.tool_calls:\n",
        "  if tool['name']==\"add\":\n",
        "    tool_output = sub.invoke(tool['args'])\n",
        "    print(f\"addition Result: {tool_output}\")\n",
        "  else:\n",
        "    print(f\"unknown tool : {tool['name']}\")"
      ],
      "metadata": {
        "id": "unkpdv6jec_p"
      },
      "execution_count": null,
      "outputs": []
    },
    {
      "cell_type": "code",
      "source": [
        "from langchain_core.messages import HumanMessage , ToolMessage\n",
        "messages = [\n",
        "    HumanMessage(\n",
        "        \"hello , can you tell me what   5 additin by 6 is\"\n",
        "    )\n",
        "]\n",
        "llm_output = llm_with_tools.invoke(messages)\n",
        "messages.append(llm_output)"
      ],
      "metadata": {
        "id": "a0W4qnR1ee72"
      },
      "execution_count": null,
      "outputs": []
    },
    {
      "cell_type": "code",
      "source": [
        "messages"
      ],
      "metadata": {
        "colab": {
          "base_uri": "https://localhost:8080/"
        },
        "id": "kZFOYEdXeguV",
        "outputId": "9f0d2fac-a95c-487e-bab1-26be7fa6aeb1"
      },
      "execution_count": null,
      "outputs": [
        {
          "output_type": "execute_result",
          "data": {
            "text/plain": [
              "[HumanMessage(content='hello , can you tell me what   5 additin by 6 is', additional_kwargs={}, response_metadata={}),\n",
              " AIMessage(content='', additional_kwargs={'function_call': {'name': 'add', 'arguments': '{\"a\": 5.0, \"b\": 6.0}'}}, response_metadata={'prompt_feedback': {'block_reason': 0, 'safety_ratings': []}, 'finish_reason': 'STOP', 'safety_ratings': [{'category': 'HARM_CATEGORY_HATE_SPEECH', 'probability': 'NEGLIGIBLE', 'blocked': False}, {'category': 'HARM_CATEGORY_DANGEROUS_CONTENT', 'probability': 'NEGLIGIBLE', 'blocked': False}, {'category': 'HARM_CATEGORY_HARASSMENT', 'probability': 'NEGLIGIBLE', 'blocked': False}, {'category': 'HARM_CATEGORY_SEXUALLY_EXPLICIT', 'probability': 'NEGLIGIBLE', 'blocked': False}]}, id='run-a7b3f11f-6866-4fd9-8e83-2c06eb6cf3a9-0', tool_calls=[{'name': 'add', 'args': {'a': 5.0, 'b': 6.0}, 'id': '135e6c26-6c54-4e36-b234-1c35434b420d', 'type': 'tool_call'}], usage_metadata={'input_tokens': 64, 'output_tokens': 3, 'total_tokens': 67, 'input_token_details': {'cache_read': 0}})]"
            ]
          },
          "metadata": {},
          "execution_count": 161
        }
      ]
    },
    {
      "cell_type": "code",
      "source": [
        "for tool in llm_output.tool_calls: # Changed res.tool_calls to llm_output.tool_calls\n",
        "    if tool['name'] == \"add\":\n",
        "        tool_output = add.invoke(tool['args'])\n",
        "        # Ensure tool_output is a string\n",
        "        tool_output_str = str(tool_output)\n",
        "        # Provide the tool name when creating the ToolMessage\n",
        "        messages.append(ToolMessage(content=tool_output_str, tool_call_id=tool['id'], name=tool['name']))\n",
        "    else:\n",
        "        print(f\"unknown tool : {tool['name']}\")"
      ],
      "metadata": {
        "id": "KNaRb1eVekgo"
      },
      "execution_count": null,
      "outputs": []
    },
    {
      "cell_type": "code",
      "source": [
        "from pprint import pprint\n",
        "pprint(messages)"
      ],
      "metadata": {
        "colab": {
          "base_uri": "https://localhost:8080/"
        },
        "id": "9dfUKuPOemi0",
        "outputId": "e1223d4a-6bff-46fe-cb34-1cbccc994a74"
      },
      "execution_count": null,
      "outputs": [
        {
          "output_type": "stream",
          "name": "stdout",
          "text": [
            "[HumanMessage(content='hello , can you tell me what   5 additin by 6 is', additional_kwargs={}, response_metadata={}),\n",
            " AIMessage(content='', additional_kwargs={'function_call': {'name': 'add', 'arguments': '{\"a\": 5.0, \"b\": 6.0}'}}, response_metadata={'prompt_feedback': {'block_reason': 0, 'safety_ratings': []}, 'finish_reason': 'STOP', 'safety_ratings': [{'category': 'HARM_CATEGORY_HATE_SPEECH', 'probability': 'NEGLIGIBLE', 'blocked': False}, {'category': 'HARM_CATEGORY_DANGEROUS_CONTENT', 'probability': 'NEGLIGIBLE', 'blocked': False}, {'category': 'HARM_CATEGORY_HARASSMENT', 'probability': 'NEGLIGIBLE', 'blocked': False}, {'category': 'HARM_CATEGORY_SEXUALLY_EXPLICIT', 'probability': 'NEGLIGIBLE', 'blocked': False}]}, id='run-a7b3f11f-6866-4fd9-8e83-2c06eb6cf3a9-0', tool_calls=[{'name': 'add', 'args': {'a': 5.0, 'b': 6.0}, 'id': '135e6c26-6c54-4e36-b234-1c35434b420d', 'type': 'tool_call'}], usage_metadata={'input_tokens': 64, 'output_tokens': 3, 'total_tokens': 67, 'input_token_details': {'cache_read': 0}}),\n",
            " ToolMessage(content='11', name='add', tool_call_id='135e6c26-6c54-4e36-b234-1c35434b420d')]\n"
          ]
        }
      ]
    },
    {
      "cell_type": "code",
      "source": [
        "res = llm_with_tools.invoke(messages)\n",
        "print(res.content)"
      ],
      "metadata": {
        "colab": {
          "base_uri": "https://localhost:8080/"
        },
        "id": "j9rOkUyieogk",
        "outputId": "849cc4f3-44b4-4b84-fefc-e46a80c00ead"
      },
      "execution_count": null,
      "outputs": [
        {
          "output_type": "stream",
          "name": "stdout",
          "text": [
            "The result of 5 + 6 is 11.\n"
          ]
        }
      ]
    }
  ]
}